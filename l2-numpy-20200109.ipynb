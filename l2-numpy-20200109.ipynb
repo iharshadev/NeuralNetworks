{
 "cells": [
  {
   "cell_type": "markdown",
   "metadata": {},
   "source": [
    "# Ipython\n",
    "Jupyter notebooks and Colab are widely used to run IPython notebooks in this class\n",
    "\n",
    "# NumPy\n",
    "\n",
    "\n",
    "### Important terms\n",
    "\n",
    "1. size - a.k.a dimension refers to the number of dimensions the array has\n",
    "   *  [1,2,3] has one dimension - 1d array\n",
    "   * [\n",
    "       [1,2,3],\n",
    "       [4,5,6]\n",
    "   ] has 2 dimensions\n",
    "2. shape"
   ]
  },
  {
   "cell_type": "code",
   "execution_count": 9,
   "metadata": {},
   "outputs": [
    {
     "data": {
      "text/html": [
       "<style>.container { width:90% !important; }</style>"
      ],
      "text/plain": [
       "<IPython.core.display.HTML object>"
      ]
     },
     "metadata": {},
     "output_type": "display_data"
    }
   ],
   "source": [
    "import numpy as np\n",
    "from IPython.core.display import display, HTML\n",
    "display(HTML(\"<style>.container { width:90% !important; }</style>\"))\n",
    "%matplotlib inline"
   ]
  },
  {
   "cell_type": "markdown",
   "metadata": {},
   "source": [
    "### Important methods\n",
    "1. `arange(start, end, delta)` - Generates numbers from `start` to `end`(**Not Inclusive**) with delta differnce between consecutive numbers"
   ]
  },
  {
   "cell_type": "code",
   "execution_count": 7,
   "metadata": {},
   "outputs": [
    {
     "data": {
      "text/plain": [
       "array([-2.0000000e+00, -1.8000000e+00, -1.6000000e+00, -1.4000000e+00,\n",
       "       -1.2000000e+00, -1.0000000e+00, -8.0000000e-01, -6.0000000e-01,\n",
       "       -4.0000000e-01, -2.0000000e-01, -4.4408921e-16,  2.0000000e-01,\n",
       "        4.0000000e-01,  6.0000000e-01,  8.0000000e-01,  1.0000000e+00,\n",
       "        1.2000000e+00,  1.4000000e+00,  1.6000000e+00,  1.8000000e+00,\n",
       "        2.0000000e+00,  2.2000000e+00,  2.4000000e+00,  2.6000000e+00,\n",
       "        2.8000000e+00,  3.0000000e+00,  3.2000000e+00,  3.4000000e+00,\n",
       "        3.6000000e+00,  3.8000000e+00,  4.0000000e+00,  4.2000000e+00,\n",
       "        4.4000000e+00,  4.6000000e+00,  4.8000000e+00,  5.0000000e+00,\n",
       "        5.2000000e+00,  5.4000000e+00])"
      ]
     },
     "execution_count": 7,
     "metadata": {},
     "output_type": "execute_result"
    }
   ],
   "source": [
    "arange = np.arange(-2, 5.6, 0.2)\n",
    "arange"
   ]
  },
  {
   "cell_type": "markdown",
   "metadata": {},
   "source": [
    "2. `linspace(start, end, count)` - Generates an ndarray of numbers from `start` to `end`(**inclusive**) with `count` nmumber of items"
   ]
  },
  {
   "cell_type": "code",
   "execution_count": 11,
   "metadata": {},
   "outputs": [
    {
     "data": {
      "text/plain": [
       "array([-2.        , -1.78947368, -1.57894737, -1.36842105, -1.15789474,\n",
       "       -0.94736842, -0.73684211, -0.52631579, -0.31578947, -0.10526316,\n",
       "        0.10526316,  0.31578947,  0.52631579,  0.73684211,  0.94736842,\n",
       "        1.15789474,  1.36842105,  1.57894737,  1.78947368,  2.        ])"
      ]
     },
     "execution_count": 11,
     "metadata": {},
     "output_type": "execute_result"
    }
   ],
   "source": [
    "lins = np.linspace(-2, 2, 20)\n",
    "lins"
   ]
  },
  {
   "cell_type": "code",
   "execution_count": null,
   "metadata": {},
   "outputs": [],
   "source": []
  }
 ],
 "metadata": {
  "kernelspec": {
   "display_name": "Python 3",
   "language": "python",
   "name": "python3"
  },
  "language_info": {
   "codemirror_mode": {
    "name": "ipython",
    "version": 3
   },
   "file_extension": ".py",
   "mimetype": "text/x-python",
   "name": "python",
   "nbconvert_exporter": "python",
   "pygments_lexer": "ipython3",
   "version": "3.8.3"
  }
 },
 "nbformat": 4,
 "nbformat_minor": 4
}
